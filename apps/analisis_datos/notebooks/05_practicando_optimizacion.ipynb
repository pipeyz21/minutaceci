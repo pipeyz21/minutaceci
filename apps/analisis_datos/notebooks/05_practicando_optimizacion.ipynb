{
 "cells": [
  {
   "cell_type": "markdown",
   "metadata": {},
   "source": [
    "# Optimización con Pyomo"
   ]
  },
  {
   "cell_type": "code",
   "execution_count": 5,
   "metadata": {},
   "outputs": [],
   "source": [
    "import pyomo.environ as pyo"
   ]
  },
  {
   "cell_type": "markdown",
   "metadata": {},
   "source": [
    "$FO$: $Z$ = $min$ $2x_1$ + $3x_2$\n",
    "\n",
    "Sujeto a:\n",
    "\n",
    "$3x_1$ + $4x_2$ $\\geq$ $1$\n",
    "\n",
    "$x_1$, $x_2$ $\\geq$ $0$"
   ]
  },
  {
   "cell_type": "code",
   "execution_count": 9,
   "metadata": {},
   "outputs": [
    {
     "data": {
      "text/plain": [
       "<pyomo.core.base.PyomoModel.ModelSolutions at 0x1e73fcfd110>"
      ]
     },
     "execution_count": 9,
     "metadata": {},
     "output_type": "execute_result"
    }
   ],
   "source": [
    "model = pyo.ConcreteModel()\n",
    "\n",
    "model.x = pyo.Var([1, 2], domain=pyo.NonNegativeReals)\n",
    "model.OBJ = pyo.Objective(expr = 2*model.x[1] + 3*model.x[2])\n",
    "model.Constraint1 = pyo.Constraint(expr = 3*model.x[1] + 4*model.x[2] >= 1)\n",
    "\n",
    "model.solutions"
   ]
  },
  {
   "cell_type": "markdown",
   "metadata": {},
   "source": [
    "$Z$ = min $\\sum_{j=1}^n$ $c_j$ $x_j$\n",
    "\n",
    "$\\sum_{j=1}^n$ $a_ij$ $x_j$ $\\geq$ $b_i$ $\\forall$ $i$ = $1...m$\n",
    "\n",
    "$x_j$ $\\geq$ $0$            $\\forall$ $j$ = $1...n$"
   ]
  },
  {
   "cell_type": "code",
   "execution_count": null,
   "metadata": {},
   "outputs": [],
   "source": [
    "model = pyo.AbstractModel()\n",
    "\n",
    "model.m = pyo.Param(within = pyo.NonNegativeIntegers)\n",
    "model.n = pyo.Param(within = pyo.NonNegativeIntegers)\n",
    "\n",
    "model.I = pyo.RangeSet(1, model.m)\n",
    "model.J = pyo.RangeSet(1, model.n)\n",
    "\n",
    "model.a = pyo.Param(model.I, model.J)\n",
    "model.b = pyo.Param(model.I)\n",
    "model.c = pyo.Param(model.J)\n",
    "\n",
    "model.x = pyo.Var(model.J, domain=pyo.NonNegativeReals)\n",
    "\n",
    "def obj_expression(m):\n",
    "    return pyo.summation(m.c, m.x)\n",
    "\n",
    "def ax_contraint_rule(m, i):\n",
    "    return sum(m.a[i, j] * m.x[j] for j in m.J) >= m.b[i]\n",
    "\n",
    "model.OBJ = pyo.Objective(rule=obj_expression)\n",
    "\n",
    "model.AxbConstraint = pyo.Constraint(model.I, rule=ax_contraint_rule)"
   ]
  }
 ],
 "metadata": {
  "kernelspec": {
   "display_name": "venv",
   "language": "python",
   "name": "python3"
  },
  "language_info": {
   "codemirror_mode": {
    "name": "ipython",
    "version": 3
   },
   "file_extension": ".py",
   "mimetype": "text/x-python",
   "name": "python",
   "nbconvert_exporter": "python",
   "pygments_lexer": "ipython3",
   "version": "3.11.8"
  }
 },
 "nbformat": 4,
 "nbformat_minor": 2
}
